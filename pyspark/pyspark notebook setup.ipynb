{
 "cells": [
  {
   "cell_type": "code",
   "execution_count": 6,
   "metadata": {},
   "outputs": [],
   "source": [
    "import findspark\n",
    "findspark.init()\n",
    "from pyspark import SparkContext\n",
    "from pyspark.sql import SparkSession\n"
   ]
  },
  {
   "cell_type": "code",
   "execution_count": 7,
   "metadata": {},
   "outputs": [],
   "source": []
  },
  {
   "cell_type": "code",
   "execution_count": 39,
   "metadata": {},
   "outputs": [],
   "source": [
    "df = spark.read.option(\"header\", True).csv(\"auto-data.csv\")"
   ]
  },
  {
   "cell_type": "code",
   "execution_count": 40,
   "metadata": {},
   "outputs": [
    {
     "name": "stdout",
     "output_type": "stream",
     "text": [
      "root\n",
      " |-- MAKE: string (nullable = true)\n",
      " |-- FUELTYPE: string (nullable = true)\n",
      " |-- ASPIRE: string (nullable = true)\n",
      " |-- DOORS: string (nullable = true)\n",
      " |-- BODY: string (nullable = true)\n",
      " |-- DRIVE: string (nullable = true)\n",
      " |-- CYLINDERS: string (nullable = true)\n",
      " |-- HP: string (nullable = true)\n",
      " |-- RPM: string (nullable = true)\n",
      " |-- MPG-CITY: string (nullable = true)\n",
      " |-- MPG-HWY: string (nullable = true)\n",
      " |-- PRICE: string (nullable = true)\n",
      "\n"
     ]
    }
   ],
   "source": [
    "df.printSchema()"
   ]
  },
  {
   "cell_type": "code",
   "execution_count": 41,
   "metadata": {},
   "outputs": [
    {
     "data": {
      "text/plain": [
       "[Row(MAKE='subaru', FUELTYPE='gas', ASPIRE='std', DOORS='two', BODY='hatchback', DRIVE='fwd', CYLINDERS='four', HP='69', RPM='4900', MPG-CITY='31', MPG-HWY='36', PRICE='5118'),\n",
       " Row(MAKE='chevrolet', FUELTYPE='gas', ASPIRE='std', DOORS='two', BODY='hatchback', DRIVE='fwd', CYLINDERS='three', HP='48', RPM='5100', MPG-CITY='47', MPG-HWY='53', PRICE='5151'),\n",
       " Row(MAKE='mazda', FUELTYPE='gas', ASPIRE='std', DOORS='two', BODY='hatchback', DRIVE='fwd', CYLINDERS='four', HP='68', RPM='5000', MPG-CITY='30', MPG-HWY='31', PRICE='5195'),\n",
       " Row(MAKE='toyota', FUELTYPE='gas', ASPIRE='std', DOORS='two', BODY='hatchback', DRIVE='fwd', CYLINDERS='four', HP='62', RPM='4800', MPG-CITY='35', MPG-HWY='39', PRICE='5348'),\n",
       " Row(MAKE='mitsubishi', FUELTYPE='gas', ASPIRE='std', DOORS='two', BODY='hatchback', DRIVE='fwd', CYLINDERS='four', HP='68', RPM='5500', MPG-CITY='37', MPG-HWY='41', PRICE='5389')]"
      ]
     },
     "execution_count": 41,
     "metadata": {},
     "output_type": "execute_result"
    }
   ],
   "source": [
    "df.head(5)"
   ]
  },
  {
   "cell_type": "code",
   "execution_count": 42,
   "metadata": {},
   "outputs": [
    {
     "name": "stdout",
     "output_type": "stream",
     "text": [
      "+----------+--------+------+-----+---------+-----+---------+---+----+--------+-------+-----+\n",
      "|      MAKE|FUELTYPE|ASPIRE|DOORS|     BODY|DRIVE|CYLINDERS| HP| RPM|MPG-CITY|MPG-HWY|PRICE|\n",
      "+----------+--------+------+-----+---------+-----+---------+---+----+--------+-------+-----+\n",
      "|    subaru|     gas|   std|  two|hatchback|  fwd|     four| 69|4900|      31|     36| 5118|\n",
      "| chevrolet|     gas|   std|  two|hatchback|  fwd|    three| 48|5100|      47|     53| 5151|\n",
      "|     mazda|     gas|   std|  two|hatchback|  fwd|     four| 68|5000|      30|     31| 5195|\n",
      "|    toyota|     gas|   std|  two|hatchback|  fwd|     four| 62|4800|      35|     39| 5348|\n",
      "|mitsubishi|     gas|   std|  two|hatchback|  fwd|     four| 68|5500|      37|     41| 5389|\n",
      "+----------+--------+------+-----+---------+-----+---------+---+----+--------+-------+-----+\n",
      "only showing top 5 rows\n",
      "\n"
     ]
    }
   ],
   "source": [
    "df.show(5)"
   ]
  },
  {
   "cell_type": "code",
   "execution_count": 45,
   "metadata": {},
   "outputs": [
    {
     "data": {
      "text/plain": [
       "197"
      ]
     },
     "execution_count": 45,
     "metadata": {},
     "output_type": "execute_result"
    }
   ],
   "source": [
    "df.select(\"MAKE\").count()"
   ]
  },
  {
   "cell_type": "code",
   "execution_count": 48,
   "metadata": {},
   "outputs": [
    {
     "name": "stdout",
     "output_type": "stream",
     "text": [
      "+----------+\n",
      "|      MAKE|\n",
      "+----------+\n",
      "|    subaru|\n",
      "| chevrolet|\n",
      "|     mazda|\n",
      "|    toyota|\n",
      "|mitsubishi|\n",
      "|     honda|\n",
      "|    nissan|\n",
      "|     dodge|\n",
      "|  plymouth|\n",
      "|     mazda|\n",
      "|mitsubishi|\n",
      "|     dodge|\n",
      "|  plymouth|\n",
      "| chevrolet|\n",
      "|    toyota|\n",
      "|     dodge|\n",
      "|     honda|\n",
      "|    toyota|\n",
      "|     honda|\n",
      "| chevrolet|\n",
      "+----------+\n",
      "only showing top 20 rows\n",
      "\n"
     ]
    }
   ],
   "source": [
    "df.select(\"MAKE\").show()"
   ]
  },
  {
   "cell_type": "code",
   "execution_count": null,
   "metadata": {},
   "outputs": [],
   "source": []
  }
 ],
 "metadata": {
  "kernelspec": {
   "display_name": "Python 3",
   "language": "python",
   "name": "python3"
  },
  "language_info": {
   "codemirror_mode": {
    "name": "ipython",
    "version": 3
   },
   "file_extension": ".py",
   "mimetype": "text/x-python",
   "name": "python",
   "nbconvert_exporter": "python",
   "pygments_lexer": "ipython3",
   "version": "3.6.4"
  }
 },
 "nbformat": 4,
 "nbformat_minor": 2
}
