{
  "cells": [
    {
      "cell_type": "code",
      "source": [
        "import findspark\n",
        "findspark.init()\n",
        "\n",
        "from pyspark import SparkContext\n",
        "sc = SparkContext.getOrCreate()"
      ],
      "outputs": [],
      "execution_count": 2,
      "metadata": {}
    },
    {
      "cell_type": "code",
      "source": [
        "from pyspark.sql import SparkSession\n",
        "\nspark = SparkSession.builder.appName(\"Python Spark SQL basic example\").config(\"spark.some.config.option\", \"some-value\").getOrCreate()"
      ],
      "outputs": [],
      "execution_count": 4,
      "metadata": {}
    },
    {
      "cell_type": "code",
      "source": [
        "df = spark.read.csv(\"auto-data.csv\", header=True)"
      ],
      "outputs": [],
      "execution_count": 10,
      "metadata": {}
    },
    {
      "cell_type": "code",
      "source": [
        "df.head(5)"
      ],
      "outputs": [
        {
          "output_type": "execute_result",
          "execution_count": 11,
          "data": {
            "text/plain": [
              "[Row(MAKE='subaru', FUELTYPE='gas', ASPIRE='std', DOORS='two', BODY='hatchback', DRIVE='fwd', CYLINDERS='four', HP='69', RPM='4900', MPG-CITY='31', MPG-HWY='36', PRICE='5118'),\n",
              " Row(MAKE='chevrolet', FUELTYPE='gas', ASPIRE='std', DOORS='two', BODY='hatchback', DRIVE='fwd', CYLINDERS='three', HP='48', RPM='5100', MPG-CITY='47', MPG-HWY='53', PRICE='5151'),\n",
              " Row(MAKE='mazda', FUELTYPE='gas', ASPIRE='std', DOORS='two', BODY='hatchback', DRIVE='fwd', CYLINDERS='four', HP='68', RPM='5000', MPG-CITY='30', MPG-HWY='31', PRICE='5195'),\n",
              " Row(MAKE='toyota', FUELTYPE='gas', ASPIRE='std', DOORS='two', BODY='hatchback', DRIVE='fwd', CYLINDERS='four', HP='62', RPM='4800', MPG-CITY='35', MPG-HWY='39', PRICE='5348'),\n",
              " Row(MAKE='mitsubishi', FUELTYPE='gas', ASPIRE='std', DOORS='two', BODY='hatchback', DRIVE='fwd', CYLINDERS='four', HP='68', RPM='5500', MPG-CITY='37', MPG-HWY='41', PRICE='5389')]"
            ]
          },
          "metadata": {}
        }
      ],
      "execution_count": 11,
      "metadata": {
        "collapsed": true
      }
    },
    {
      "cell_type": "code",
      "source": [
        "df.show(5)"
      ],
      "outputs": [
        {
          "output_type": "stream",
          "name": "stdout",
          "text": [
            "+----------+--------+------+-----+---------+-----+---------+---+----+--------+-------+-----+\n",
            "|      MAKE|FUELTYPE|ASPIRE|DOORS|     BODY|DRIVE|CYLINDERS| HP| RPM|MPG-CITY|MPG-HWY|PRICE|\n",
            "+----------+--------+------+-----+---------+-----+---------+---+----+--------+-------+-----+\n",
            "|    subaru|     gas|   std|  two|hatchback|  fwd|     four| 69|4900|      31|     36| 5118|\n",
            "| chevrolet|     gas|   std|  two|hatchback|  fwd|    three| 48|5100|      47|     53| 5151|\n",
            "|     mazda|     gas|   std|  two|hatchback|  fwd|     four| 68|5000|      30|     31| 5195|\n",
            "|    toyota|     gas|   std|  two|hatchback|  fwd|     four| 62|4800|      35|     39| 5348|\n",
            "|mitsubishi|     gas|   std|  two|hatchback|  fwd|     four| 68|5500|      37|     41| 5389|\n",
            "+----------+--------+------+-----+---------+-----+---------+---+----+--------+-------+-----+\n",
            "only showing top 5 rows\n",
            "\n"
          ]
        }
      ],
      "execution_count": 12,
      "metadata": {}
    },
    {
      "cell_type": "code",
      "source": [
        "df.select(\"MAKE\").show(5)"
      ],
      "outputs": [
        {
          "output_type": "stream",
          "name": "stdout",
          "text": [
            "+----------+\n",
            "|      MAKE|\n",
            "+----------+\n",
            "|    subaru|\n",
            "| chevrolet|\n",
            "|     mazda|\n",
            "|    toyota|\n",
            "|mitsubishi|\n",
            "+----------+\n",
            "only showing top 5 rows\n",
            "\n"
          ]
        }
      ],
      "execution_count": 15,
      "metadata": {}
    },
    {
      "cell_type": "code",
      "source": [
        "df.select(\"MAKE\").count()"
      ],
      "outputs": [
        {
          "output_type": "execute_result",
          "execution_count": 16,
          "data": {
            "text/plain": [
              "197"
            ]
          },
          "metadata": {}
        }
      ],
      "execution_count": 16,
      "metadata": {}
    },
    {
      "cell_type": "code",
      "source": [
        "df.count()"
      ],
      "outputs": [
        {
          "output_type": "execute_result",
          "execution_count": 17,
          "data": {
            "text/plain": [
              "197"
            ]
          },
          "metadata": {}
        }
      ],
      "execution_count": 17,
      "metadata": {}
    },
    {
      "cell_type": "code",
      "source": [
        "df.select(\"MAKE\",\"CYLINDERS\").show()"
      ],
      "outputs": [
        {
          "output_type": "stream",
          "name": "stdout",
          "text": [
            "+----------+---------+\n",
            "|      MAKE|CYLINDERS|\n",
            "+----------+---------+\n",
            "|    subaru|     four|\n",
            "| chevrolet|    three|\n",
            "|     mazda|     four|\n",
            "|    toyota|     four|\n",
            "|mitsubishi|     four|\n",
            "|     honda|     four|\n",
            "|    nissan|     four|\n",
            "|     dodge|     four|\n",
            "|  plymouth|     four|\n",
            "|     mazda|     four|\n",
            "|mitsubishi|     four|\n",
            "|     dodge|     four|\n",
            "|  plymouth|     four|\n",
            "| chevrolet|     four|\n",
            "|    toyota|     four|\n",
            "|     dodge|     four|\n",
            "|     honda|     four|\n",
            "|    toyota|     four|\n",
            "|     honda|     four|\n",
            "| chevrolet|     four|\n",
            "+----------+---------+\n",
            "only showing top 20 rows\n",
            "\n"
          ]
        }
      ],
      "execution_count": 20,
      "metadata": {
        "scrolled": true
      }
    },
    {
      "cell_type": "code",
      "source": [
        "df.select(df['MAKE'],df['HP']).show()"
      ],
      "outputs": [
        {
          "output_type": "stream",
          "name": "stdout",
          "text": [
            "+----------+---+\n",
            "|      MAKE| HP|\n",
            "+----------+---+\n",
            "|    subaru| 69|\n",
            "| chevrolet| 48|\n",
            "|     mazda| 68|\n",
            "|    toyota| 62|\n",
            "|mitsubishi| 68|\n",
            "|     honda| 60|\n",
            "|    nissan| 69|\n",
            "|     dodge| 68|\n",
            "|  plymouth| 68|\n",
            "|     mazda| 68|\n",
            "|mitsubishi| 68|\n",
            "|     dodge| 68|\n",
            "|  plymouth| 68|\n",
            "| chevrolet| 70|\n",
            "|    toyota| 62|\n",
            "|     dodge| 68|\n",
            "|     honda| 58|\n",
            "|    toyota| 62|\n",
            "|     honda| 76|\n",
            "| chevrolet| 70|\n",
            "+----------+---+\n",
            "only showing top 20 rows\n",
            "\n"
          ]
        }
      ],
      "execution_count": 22,
      "metadata": {
        "scrolled": true
      }
    },
    {
      "cell_type": "code",
      "source": [
        "df.filter(df['HP'] > 95).show()"
      ],
      "outputs": [
        {
          "output_type": "stream",
          "name": "stdout",
          "text": [
            "+----------+--------+------+-----+---------+-----+---------+---+----+--------+-------+-----+\n",
            "|      MAKE|FUELTYPE|ASPIRE|DOORS|     BODY|DRIVE|CYLINDERS| HP| RPM|MPG-CITY|MPG-HWY|PRICE|\n",
            "+----------+--------+------+-----+---------+-----+---------+---+----+--------+-------+-----+\n",
            "|mitsubishi|     gas| turbo|  two|hatchback|  fwd|     four|102|5500|      24|     30| 7689|\n",
            "|     dodge|     gas| turbo|  two|hatchback|  fwd|     four|102|5500|      24|     30| 7957|\n",
            "|  plymouth|     gas| turbo|  two|hatchback|  fwd|     four|102|5500|      24|     30| 7957|\n",
            "|    toyota|     gas|   std|  two|  hardtop|  rwd|     four|116|4800|      24|     30| 8449|\n",
            "|    nissan|     gas|   std| four|hatchback|  fwd|     four| 97|5200|      27|     34| 8949|\n",
            "|mitsubishi|     gas| turbo| four|    sedan|  fwd|     four|116|5500|      23|     30| 9279|\n",
            "|mitsubishi|     gas|   std| four|    sedan|  fwd|     four|116|5500|      23|     30| 9279|\n",
            "|    toyota|     gas|   std|  two|    sedan|  rwd|     four|112|6600|      26|     29| 9298|\n",
            "|    toyota|     gas|   std|  two|hatchback|  rwd|     four|112|6600|      26|     29| 9538|\n",
            "|    nissan|     gas|   std| four|    sedan|  fwd|     four| 97|5200|      27|     34| 9549|\n",
            "|    toyota|     gas|   std|  two|  hardtop|  rwd|     four|116|4800|      24|     30| 9639|\n",
            "|mitsubishi|     gas| turbo|  two|hatchback|  fwd|     four|116|5500|      23|     30| 9959|\n",
            "|    toyota|     gas|   std|  two|hatchback|  rwd|     four|116|4800|      24|     30| 9989|\n",
            "|volkswagen|     gas|   std| four|    sedan|  fwd|     four|100|5500|      26|     32| 9995|\n",
            "|     honda|     gas|   std|  two|    sedan|  fwd|     four|100|5500|      25|     31|10345|\n",
            "|     mazda|     gas|   std|  two|hatchback|  rwd|      two|101|6000|      17|     23|10945|\n",
            "|    toyota|     gas|   std|  two|  hardtop|  rwd|     four|116|4800|      24|     30|11199|\n",
            "|    subaru|     gas| turbo| four|    sedan|  4wd|     four|111|4800|      24|     29|11259|\n",
            "|    toyota|     gas|   std|  two|hatchback|  rwd|     four|116|4800|      24|     30|11549|\n",
            "|    subaru|     gas| turbo| four|    wagon|  4wd|     four|111|4800|      23|     23|11694|\n",
            "+----------+--------+------+-----+---------+-----+---------+---+----+--------+-------+-----+\n",
            "only showing top 20 rows\n",
            "\n"
          ]
        }
      ],
      "execution_count": 28,
      "metadata": {
        "scrolled": true
      }
    },
    {
      "cell_type": "code",
      "source": [
        "df.groupBy(\"MAKE\").count().show()"
      ],
      "outputs": [
        {
          "output_type": "stream",
          "name": "stdout",
          "text": [
            "+-------------+-----+\n",
            "|         MAKE|count|\n",
            "+-------------+-----+\n",
            "|       peugot|   11|\n",
            "|       jaguar|    3|\n",
            "|   mitsubishi|   13|\n",
            "|       toyota|   32|\n",
            "|         saab|    6|\n",
            "|     plymouth|    7|\n",
            "|         audi|    6|\n",
            "|  alfa-romero|    3|\n",
            "|          bmw|    8|\n",
            "|        dodge|    8|\n",
            "|        mazda|   16|\n",
            "|mercedes-benz|    8|\n",
            "|        isuzu|    2|\n",
            "|      porsche|    4|\n",
            "|    chevrolet|    3|\n",
            "|        honda|   13|\n",
            "|   volkswagen|   12|\n",
            "|      mercury|    1|\n",
            "|       nissan|   18|\n",
            "|       subaru|   12|\n",
            "+-------------+-----+\n",
            "only showing top 20 rows\n",
            "\n"
          ]
        }
      ],
      "execution_count": 32,
      "metadata": {
        "scrolled": true
      }
    },
    {
      "cell_type": "code",
      "source": [
        "df.createOrReplaceTempView(\"cars\")"
      ],
      "outputs": [],
      "execution_count": 33,
      "metadata": {}
    },
    {
      "cell_type": "code",
      "source": [
        "sqldf = spark.sql(\"select * from cars\")"
      ],
      "outputs": [],
      "execution_count": 34,
      "metadata": {}
    },
    {
      "cell_type": "code",
      "source": [
        "sqldf.show()"
      ],
      "outputs": [
        {
          "output_type": "stream",
          "name": "stdout",
          "text": [
            "+----------+--------+------+-----+---------+-----+---------+---+----+--------+-------+-----+\n",
            "|      MAKE|FUELTYPE|ASPIRE|DOORS|     BODY|DRIVE|CYLINDERS| HP| RPM|MPG-CITY|MPG-HWY|PRICE|\n",
            "+----------+--------+------+-----+---------+-----+---------+---+----+--------+-------+-----+\n",
            "|    subaru|     gas|   std|  two|hatchback|  fwd|     four| 69|4900|      31|     36| 5118|\n",
            "| chevrolet|     gas|   std|  two|hatchback|  fwd|    three| 48|5100|      47|     53| 5151|\n",
            "|     mazda|     gas|   std|  two|hatchback|  fwd|     four| 68|5000|      30|     31| 5195|\n",
            "|    toyota|     gas|   std|  two|hatchback|  fwd|     four| 62|4800|      35|     39| 5348|\n",
            "|mitsubishi|     gas|   std|  two|hatchback|  fwd|     four| 68|5500|      37|     41| 5389|\n",
            "|     honda|     gas|   std|  two|hatchback|  fwd|     four| 60|5500|      38|     42| 5399|\n",
            "|    nissan|     gas|   std|  two|    sedan|  fwd|     four| 69|5200|      31|     37| 5499|\n",
            "|     dodge|     gas|   std|  two|hatchback|  fwd|     four| 68|5500|      37|     41| 5572|\n",
            "|  plymouth|     gas|   std|  two|hatchback|  fwd|     four| 68|5500|      37|     41| 5572|\n",
            "|     mazda|     gas|   std|  two|hatchback|  fwd|     four| 68|5000|      31|     38| 6095|\n",
            "|mitsubishi|     gas|   std|  two|hatchback|  fwd|     four| 68|5500|      31|     38| 6189|\n",
            "|     dodge|     gas|   std| four|hatchback|  fwd|     four| 68|5500|      31|     38| 6229|\n",
            "|  plymouth|     gas|   std| four|hatchback|  fwd|     four| 68|5500|      31|     38| 6229|\n",
            "| chevrolet|     gas|   std|  two|hatchback|  fwd|     four| 70|5400|      38|     43| 6295|\n",
            "|    toyota|     gas|   std|  two|hatchback|  fwd|     four| 62|4800|      31|     38| 6338|\n",
            "|     dodge|     gas|   std|  two|hatchback|  fwd|     four| 68|5500|      31|     38| 6377|\n",
            "|     honda|     gas|   std|  two|hatchback|  fwd|     four| 58|4800|      49|     54| 6479|\n",
            "|    toyota|     gas|   std| four|hatchback|  fwd|     four| 62|4800|      31|     38| 6488|\n",
            "|     honda|     gas|   std|  two|hatchback|  fwd|     four| 76|6000|      30|     34| 6529|\n",
            "| chevrolet|     gas|   std| four|    sedan|  fwd|     four| 70|5400|      38|     43| 6575|\n",
            "+----------+--------+------+-----+---------+-----+---------+---+----+--------+-------+-----+\n",
            "only showing top 20 rows\n",
            "\n"
          ]
        }
      ],
      "execution_count": 35,
      "metadata": {
        "scrolled": true
      }
    },
    {
      "cell_type": "code",
      "source": [
        "spark.sql(\"select MAKE, PRICE,HP,RPM,DRIVE , FUELTYPE from cars\").show()"
      ],
      "outputs": [
        {
          "output_type": "stream",
          "name": "stdout",
          "text": [
            "+----------+-----+---+----+-----+--------+\n",
            "|      MAKE|PRICE| HP| RPM|DRIVE|FUELTYPE|\n",
            "+----------+-----+---+----+-----+--------+\n",
            "|    subaru| 5118| 69|4900|  fwd|     gas|\n",
            "| chevrolet| 5151| 48|5100|  fwd|     gas|\n",
            "|     mazda| 5195| 68|5000|  fwd|     gas|\n",
            "|    toyota| 5348| 62|4800|  fwd|     gas|\n",
            "|mitsubishi| 5389| 68|5500|  fwd|     gas|\n",
            "|     honda| 5399| 60|5500|  fwd|     gas|\n",
            "|    nissan| 5499| 69|5200|  fwd|     gas|\n",
            "|     dodge| 5572| 68|5500|  fwd|     gas|\n",
            "|  plymouth| 5572| 68|5500|  fwd|     gas|\n",
            "|     mazda| 6095| 68|5000|  fwd|     gas|\n",
            "|mitsubishi| 6189| 68|5500|  fwd|     gas|\n",
            "|     dodge| 6229| 68|5500|  fwd|     gas|\n",
            "|  plymouth| 6229| 68|5500|  fwd|     gas|\n",
            "| chevrolet| 6295| 70|5400|  fwd|     gas|\n",
            "|    toyota| 6338| 62|4800|  fwd|     gas|\n",
            "|     dodge| 6377| 68|5500|  fwd|     gas|\n",
            "|     honda| 6479| 58|4800|  fwd|     gas|\n",
            "|    toyota| 6488| 62|4800|  fwd|     gas|\n",
            "|     honda| 6529| 76|6000|  fwd|     gas|\n",
            "| chevrolet| 6575| 70|5400|  fwd|     gas|\n",
            "+----------+-----+---+----+-----+--------+\n",
            "only showing top 20 rows\n",
            "\n"
          ]
        }
      ],
      "execution_count": 44,
      "metadata": {
        "scrolled": true
      }
    },
    {
      "cell_type": "code",
      "source": [
        "val spark = SparkSession.builder().appName(\"Spark SQL basic example\").config(\"spark.some.config.option\", \"some-value\").getOrCreate()"
      ],
      "outputs": [],
      "execution_count": null,
      "metadata": {}
    }
  ],
  "metadata": {
    "kernelspec": {
      "name": "python3",
      "language": "python",
      "display_name": "Python 3"
    },
    "language_info": {
      "name": "python",
      "version": "3.6.4",
      "mimetype": "text/x-python",
      "codemirror_mode": {
        "name": "ipython",
        "version": 3
      },
      "pygments_lexer": "ipython3",
      "nbconvert_exporter": "python",
      "file_extension": ".py"
    },
    "kernel_info": {
      "name": "python3"
    },
    "nteract": {
      "version": "0.12.3"
    }
  },
  "nbformat": 4,
  "nbformat_minor": 2
}