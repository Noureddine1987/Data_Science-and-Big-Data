{
  "cells": [
    {
      "cell_type": "code",
      "source": [
        "import findspark\n",
        "findspark.init()\n",
        "\n",
        "#creating spark context\n",
        "from pyspark import SparkContext\n",
        "\n",
        "from pyspark.sql import SparkSession\n",
        "\n",
        "sc = SparkContext.getOrCreate()\n"
      ],
      "outputs": [],
      "execution_count": null,
      "metadata": {}
    },
    {
      "cell_type": "code",
      "source": [
        "data = sc.parallelize([('Jordon',100),('Joson', 150)])"
      ],
      "outputs": [],
      "execution_count": null,
      "metadata": {}
    },
    {
      "cell_type": "code",
      "source": [
        "data.count()"
      ],
      "outputs": [],
      "execution_count": null,
      "metadata": {}
    },
    {
      "cell_type": "code",
      "source": [],
      "outputs": [],
      "execution_count": null,
      "metadata": {}
    },
    {
      "cell_type": "code",
      "source": [
        "spark = SparkSession.builder.master(\"local\").appName(\"Word Count\").config(\"spark.some.config.option\", \"some-value\") .getOrCreate()"
      ],
      "outputs": [],
      "execution_count": 21,
      "metadata": {}
    },
    {
      "cell_type": "code",
      "source": [
        "spark"
      ],
      "outputs": [
        {
          "output_type": "execute_result",
          "execution_count": 22,
          "data": {
            "text/html": [
              "\n",
              "            <div>\n",
              "                <p><b>SparkSession - in-memory</b></p>\n",
              "                \n",
              "        <div>\n",
              "            <p><b>SparkContext</b></p>\n",
              "\n",
              "            <p><a href=\"http://192.168.0.14:4040\">Spark UI</a></p>\n",
              "\n",
              "            <dl>\n",
              "              <dt>Version</dt>\n",
              "                <dd><code>v2.2.1</code></dd>\n",
              "              <dt>Master</dt>\n",
              "                <dd><code>local[*]</code></dd>\n",
              "              <dt>AppName</dt>\n",
              "                <dd><code>pyspark-shell</code></dd>\n",
              "            </dl>\n",
              "        </div>\n",
              "        \n",
              "            </div>\n",
              "        "
            ],
            "text/plain": [
              "<pyspark.sql.session.SparkSession at 0x10f3a9208>"
            ]
          },
          "metadata": {}
        }
      ],
      "execution_count": 22,
      "metadata": {}
    },
    {
      "cell_type": "code",
      "source": [
        "sc"
      ],
      "outputs": [
        {
          "output_type": "execute_result",
          "execution_count": 23,
          "data": {
            "text/html": [
              "\n",
              "        <div>\n",
              "            <p><b>SparkContext</b></p>\n",
              "\n",
              "            <p><a href=\"http://192.168.0.14:4040\">Spark UI</a></p>\n",
              "\n",
              "            <dl>\n",
              "              <dt>Version</dt>\n",
              "                <dd><code>v2.2.1</code></dd>\n",
              "              <dt>Master</dt>\n",
              "                <dd><code>local[*]</code></dd>\n",
              "              <dt>AppName</dt>\n",
              "                <dd><code>pyspark-shell</code></dd>\n",
              "            </dl>\n",
              "        </div>\n",
              "        "
            ],
            "text/plain": [
              "<SparkContext master=local[*] appName=pyspark-shell>"
            ]
          },
          "metadata": {}
        }
      ],
      "execution_count": 23,
      "metadata": {}
    },
    {
      "cell_type": "code",
      "source": [],
      "outputs": [],
      "execution_count": null,
      "metadata": {}
    },
    {
      "cell_type": "code",
      "source": [
        "df = spark.read.format('csv').options(header='true',inferschema='true').load(“iris.csv”, header=True)"
      ],
      "outputs": [],
      "execution_count": null,
      "metadata": {}
    },
    {
      "cell_type": "code",
      "source": [
        "df = spark.read.json(\"customerData.json\")"
      ],
      "outputs": [],
      "execution_count": 30,
      "metadata": {}
    },
    {
      "cell_type": "code",
      "source": [
        "df.show()"
      ],
      "outputs": [
        {
          "output_type": "stream",
          "name": "stdout",
          "text": [
            "+---+------+------+-----------------+------+\n",
            "|age|deptid|gender|             name|salary|\n",
            "+---+------+------+-----------------+------+\n",
            "| 32|   100|  male|Benjamin Garrison|  3000|\n",
            "| 40|   200|  male|    Holland Drake|  4500|\n",
            "| 26|   100|  male|  Burks Velasquez|  2700|\n",
            "| 51|   100|female|    June Rutledge|  4300|\n",
            "| 44|   200|  male|    Nielsen Knapp|  6500|\n",
            "+---+------+------+-----------------+------+\n",
            "\n"
          ]
        }
      ],
      "execution_count": 31,
      "metadata": {}
    },
    {
      "cell_type": "code",
      "source": [
        "df.printSchema()"
      ],
      "outputs": [
        {
          "output_type": "stream",
          "name": "stdout",
          "text": [
            "root\n",
            " |-- age: string (nullable = true)\n",
            " |-- deptid: string (nullable = true)\n",
            " |-- gender: string (nullable = true)\n",
            " |-- name: string (nullable = true)\n",
            " |-- salary: string (nullable = true)\n",
            "\n"
          ]
        }
      ],
      "execution_count": 32,
      "metadata": {}
    },
    {
      "cell_type": "code",
      "source": [
        "df.head(10)"
      ],
      "outputs": [
        {
          "output_type": "execute_result",
          "execution_count": 34,
          "data": {
            "text/plain": [
              "[Row(age='32', deptid='100', gender='male', name='Benjamin Garrison', salary='3000'),\n",
              " Row(age='40', deptid='200', gender='male', name='Holland Drake', salary='4500'),\n",
              " Row(age='26', deptid='100', gender='male', name='Burks Velasquez', salary='2700'),\n",
              " Row(age='51', deptid='100', gender='female', name='June Rutledge', salary='4300'),\n",
              " Row(age='44', deptid='200', gender='male', name='Nielsen Knapp', salary='6500')]"
            ]
          },
          "metadata": {}
        }
      ],
      "execution_count": 34,
      "metadata": {}
    },
    {
      "cell_type": "code",
      "source": [
        "df.select(\"name\").show()"
      ],
      "outputs": [
        {
          "output_type": "stream",
          "name": "stdout",
          "text": [
            "+-----------------+\n",
            "|             name|\n",
            "+-----------------+\n",
            "|Benjamin Garrison|\n",
            "|    Holland Drake|\n",
            "|  Burks Velasquez|\n",
            "|    June Rutledge|\n",
            "|    Nielsen Knapp|\n",
            "+-----------------+\n",
            "\n"
          ]
        }
      ],
      "execution_count": 35,
      "metadata": {}
    },
    {
      "cell_type": "code",
      "source": [],
      "outputs": [],
      "execution_count": null,
      "metadata": {}
    },
    {
      "cell_type": "code",
      "source": [
        " csvdata = spark.read.csv(\n",
        "    \"nasa_19950701.tsv\", header=True, mode=\"DROPMALFORMED\").show()"
      ],
      "outputs": [
        {
          "output_type": "stream",
          "name": "stdout",
          "text": [
            "+-------------------------------------------+\n",
            "|host\tlogname\ttime\tmethod\turl\tresponse\tbytes|\n",
            "+-------------------------------------------+\n",
            "|                       199.72.81.55\t-\t80...|\n",
            "|                       unicomp6.unicomp....|\n",
            "|                       199.120.110.21\t-\t...|\n",
            "|                       burger.letters.co...|\n",
            "|                       199.120.110.21\t-\t...|\n",
            "|                       burger.letters.co...|\n",
            "|                       burger.letters.co...|\n",
            "|                       205.212.115.106\t-...|\n",
            "|                       d104.aa.net\t-\t804...|\n",
            "|                       129.94.144.152\t-\t...|\n",
            "|                       unicomp6.unicomp....|\n",
            "|                       unicomp6.unicomp....|\n",
            "|                       unicomp6.unicomp....|\n",
            "|                       d104.aa.net\t-\t804...|\n",
            "|                       d104.aa.net\t-\t804...|\n",
            "|                       d104.aa.net\t-\t804...|\n",
            "|                       129.94.144.152\t-\t...|\n",
            "|                       199.120.110.21\t-\t...|\n",
            "|                       ppptky391.asahi-n...|\n",
            "|                       net-1-141.eden.co...|\n",
            "+-------------------------------------------+\n",
            "only showing top 20 rows\n",
            "\n"
          ]
        }
      ],
      "execution_count": 94,
      "metadata": {}
    },
    {
      "cell_type": "code",
      "source": [
        "csvdata.printSchema()"
      ],
      "outputs": [
        {
          "output_type": "stream",
          "name": "stdout",
          "text": [
            "root\n",
            " |-- host\tlogname\ttime\tmethod\turl\tresponse\tbytes: string (nullable = true)\n",
            "\n"
          ]
        }
      ],
      "execution_count": 52,
      "metadata": {}
    },
    {
      "cell_type": "code",
      "source": [
        "csvdata.head(10)"
      ],
      "outputs": [
        {
          "output_type": "execute_result",
          "execution_count": 53,
          "data": {
            "text/plain": [
              "[Row(host\tlogname\ttime\tmethod\turl\tresponse\tbytes='199.72.81.55\\t-\\t804571201\\tGET\\t/history/apollo/\\t200\\t6245\\t\\t'),\n",
              " Row(host\tlogname\ttime\tmethod\turl\tresponse\tbytes='unicomp6.unicomp.net\\t-\\t804571206\\tGET\\t/shuttle/countdown/\\t200\\t3985\\t\\t'),\n",
              " Row(host\tlogname\ttime\tmethod\turl\tresponse\tbytes='199.120.110.21\\t-\\t804571209\\tGET\\t/shuttle/missions/sts-73/mission-sts-73.html\\t200\\t4085\\t\\t'),\n",
              " Row(host\tlogname\ttime\tmethod\turl\tresponse\tbytes='burger.letters.com\\t-\\t804571211\\tGET\\t/shuttle/countdown/liftoff.html\\t304\\t0\\t\\t'),\n",
              " Row(host\tlogname\ttime\tmethod\turl\tresponse\tbytes='199.120.110.21\\t-\\t804571211\\tGET\\t/shuttle/missions/sts-73/sts-73-patch-small.gif\\t200\\t4179\\t\\t'),\n",
              " Row(host\tlogname\ttime\tmethod\turl\tresponse\tbytes='burger.letters.com\\t-\\t804571212\\tGET\\t/images/NASA-logosmall.gif\\t304\\t0\\t\\t'),\n",
              " Row(host\tlogname\ttime\tmethod\turl\tresponse\tbytes='burger.letters.com\\t-\\t804571212\\tGET\\t/shuttle/countdown/video/livevideo.gif\\t200\\t0\\t\\t'),\n",
              " Row(host\tlogname\ttime\tmethod\turl\tresponse\tbytes='205.212.115.106\\t-\\t804571212\\tGET\\t/shuttle/countdown/countdown.html\\t200\\t3985\\t\\t'),\n",
              " Row(host\tlogname\ttime\tmethod\turl\tresponse\tbytes='d104.aa.net\\t-\\t804571213\\tGET\\t/shuttle/countdown/\\t200\\t3985\\t\\t'),\n",
              " Row(host\tlogname\ttime\tmethod\turl\tresponse\tbytes='129.94.144.152\\t-\\t804571213\\tGET\\t/\\t200\\t7074\\t\\t')]"
            ]
          },
          "metadata": {}
        }
      ],
      "execution_count": 53,
      "metadata": {}
    },
    {
      "cell_type": "code",
      "source": [],
      "outputs": [],
      "execution_count": null,
      "metadata": {}
    },
    {
      "cell_type": "code",
      "source": [
        "csvdata.count()"
      ],
      "outputs": [
        {
          "output_type": "execute_result",
          "execution_count": 54,
          "data": {
            "text/plain": [
              "9644"
            ]
          },
          "metadata": {}
        }
      ],
      "execution_count": 54,
      "metadata": {}
    },
    {
      "cell_type": "code",
      "source": [
        "from pyspark.sql import SQLContext\n",
        "sqlContext = SQLContext(sc)"
      ],
      "outputs": [],
      "execution_count": 89,
      "metadata": {}
    },
    {
      "cell_type": "code",
      "source": [
        "dff = sqlContext.read.format(\"nasa_19950701.tsv\").option(\"header\", \"true\").option(\"inferSchema\", \"true\").option(\"delimiter\", \"]|[\")"
      ],
      "outputs": [],
      "execution_count": 90,
      "metadata": {}
    },
    {
      "cell_type": "code",
      "source": [
        "dff.registertemptable(\"datalogs\")"
      ],
      "outputs": [],
      "execution_count": null,
      "metadata": {}
    },
    {
      "cell_type": "code",
      "source": [
        "dff"
      ],
      "outputs": [
        {
          "output_type": "execute_result",
          "execution_count": 92,
          "data": {
            "text/plain": [
              "<pyspark.sql.readwriter.DataFrameReader at 0x10f6b19e8>"
            ]
          },
          "metadata": {}
        }
      ],
      "execution_count": 92,
      "metadata": {}
    },
    {
      "cell_type": "code",
      "source": [],
      "outputs": [],
      "execution_count": null,
      "metadata": {}
    },
    {
      "cell_type": "code",
      "source": [],
      "outputs": [],
      "execution_count": null,
      "metadata": {}
    },
    {
      "cell_type": "code",
      "source": [],
      "outputs": [],
      "execution_count": null,
      "metadata": {}
    },
    {
      "cell_type": "code",
      "source": [],
      "outputs": [],
      "execution_count": null,
      "metadata": {}
    },
    {
      "cell_type": "code",
      "source": [],
      "outputs": [],
      "execution_count": null,
      "metadata": {}
    },
    {
      "cell_type": "code",
      "source": [],
      "outputs": [],
      "execution_count": null,
      "metadata": {}
    },
    {
      "cell_type": "code",
      "source": [],
      "outputs": [],
      "execution_count": null,
      "metadata": {}
    },
    {
      "cell_type": "code",
      "source": [],
      "outputs": [],
      "execution_count": null,
      "metadata": {}
    },
    {
      "cell_type": "code",
      "source": [],
      "outputs": [],
      "execution_count": null,
      "metadata": {}
    },
    {
      "cell_type": "code",
      "source": [],
      "outputs": [],
      "execution_count": null,
      "metadata": {}
    },
    {
      "cell_type": "code",
      "source": [],
      "outputs": [],
      "execution_count": null,
      "metadata": {}
    },
    {
      "cell_type": "code",
      "source": [],
      "outputs": [],
      "execution_count": null,
      "metadata": {}
    },
    {
      "cell_type": "code",
      "source": [],
      "outputs": [],
      "execution_count": null,
      "metadata": {}
    },
    {
      "cell_type": "code",
      "source": [],
      "outputs": [],
      "execution_count": null,
      "metadata": {}
    },
    {
      "cell_type": "code",
      "source": [],
      "outputs": [],
      "execution_count": null,
      "metadata": {}
    },
    {
      "cell_type": "code",
      "source": [],
      "outputs": [],
      "execution_count": null,
      "metadata": {}
    },
    {
      "cell_type": "code",
      "source": [],
      "outputs": [],
      "execution_count": null,
      "metadata": {}
    }
  ],
  "metadata": {
    "kernelspec": {
      "name": "python3",
      "language": "python",
      "display_name": "Python 3"
    },
    "language_info": {
      "name": "python",
      "version": "3.6.4",
      "mimetype": "text/x-python",
      "codemirror_mode": {
        "name": "ipython",
        "version": 3
      },
      "pygments_lexer": "ipython3",
      "nbconvert_exporter": "python",
      "file_extension": ".py"
    },
    "kernel_info": {
      "name": "python3"
    },
    "nteract": {
      "version": "0.12.3"
    }
  },
  "nbformat": 4,
  "nbformat_minor": 2
}