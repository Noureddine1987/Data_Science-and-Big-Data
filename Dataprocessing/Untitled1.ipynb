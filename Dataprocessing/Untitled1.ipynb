{
 "cells": [
  {
   "cell_type": "code",
   "execution_count": 1,
   "metadata": {
    "collapsed": true
   },
   "outputs": [],
   "source": [
    "import numpy as np\n",
    "import matplotlib.pyplot as plt"
   ]
  },
  {
   "cell_type": "code",
   "execution_count": 2,
   "metadata": {},
   "outputs": [
    {
     "ename": "NameError",
     "evalue": "name 'ax1' is not defined",
     "output_type": "error",
     "traceback": [
      "\u001b[0;31m---------------------------------------------------------------------------\u001b[0m",
      "\u001b[0;31mNameError\u001b[0m                                 Traceback (most recent call last)",
      "\u001b[0;32m<ipython-input-2-cc1777efe025>\u001b[0m in \u001b[0;36m<module>\u001b[0;34m()\u001b[0m\n\u001b[0;32m----> 1\u001b[0;31m ax1.set_title('Home value as a function of home age & area population',\n\u001b[0m\u001b[1;32m      2\u001b[0m               fontsize=14)\n",
      "\u001b[0;31mNameError\u001b[0m: name 'ax1' is not defined"
     ]
    }
   ],
   "source": [
    "ax1.set_title('Home value as a function of home age & area population',\n",
    "...               fontsize=14)\n"
   ]
  },
  {
   "cell_type": "code",
   "execution_count": 9,
   "metadata": {},
   "outputs": [],
   "source": [
    "from io import BytesIO\n",
    "import tarfile\n",
    "from urllib.request import urlopen\n",
    "\n",
    "url = 'http://www.dcc.fc.up.pt/~ltorgo/Regression/cal_housing.tgz'\n",
    "b = BytesIO(urlopen(url).read())\n",
    "fpath = 'CaliforniaHousing/cal_housing.data'\n",
    "\n",
    "with tarfile.open(mode='r', fileobj=b) as archive:\n",
    "    housing = np.loadtxt(archive.extractfile(fpath), delimiter=',')"
   ]
  },
  {
   "cell_type": "code",
   "execution_count": 10,
   "metadata": {},
   "outputs": [],
   "source": [
    "y = housing[:, -1]\n",
    "pop, age = housing[:, [4, 7]].T  "
   ]
  },
  {
   "cell_type": "code",
   "execution_count": 15,
   "metadata": {
    "collapsed": true
   },
   "outputs": [],
   "source": [
    "def add_titlebox(ax, text):\n",
    "...     ax.text(.55, .8, text,\n",
    "...         horizontalalignment='center',\n",
    "...         transform=ax.transAxes,\n",
    "...         bbox=dict(facecolor='white', alpha=0.6),\n",
    "...         fontsize=12.5)\n",
    "...     return ax"
   ]
  },
  {
   "cell_type": "code",
   "execution_count": 16,
   "metadata": {
    "collapsed": true
   },
   "outputs": [],
   "source": [
    "gridsize = (3, 2)\n",
    "fig = plt.figure(figsize=(12, 8))\n",
    "ax1 = plt.subplot2grid(gridsize, (0, 0), colspan=2, rowspan=2)"
   ]
  },
  {
   "cell_type": "code",
   "execution_count": 17,
   "metadata": {
    "collapsed": true
   },
   "outputs": [],
   "source": [
    "ax2 = plt.subplot2grid(gridsize, (2, 0))\n",
    "ax3 = plt.subplot2grid(gridsize, (2, 1))"
   ]
  },
  {
   "cell_type": "code",
   "execution_count": 18,
   "metadata": {},
   "outputs": [
    {
     "data": {
      "text/plain": [
       "<matplotlib.text.Text at 0xa1bd23198>"
      ]
     },
     "execution_count": 18,
     "metadata": {},
     "output_type": "execute_result"
    }
   ],
   "source": [
    "ax1.set_title('Home value as a function of home age & area population',\n",
    "...               fontsize=14)"
   ]
  },
  {
   "cell_type": "code",
   "execution_count": 19,
   "metadata": {},
   "outputs": [
    {
     "data": {
      "text/plain": [
       "<matplotlib.axes._subplots.AxesSubplot at 0xa1bdaa240>"
      ]
     },
     "execution_count": 19,
     "metadata": {},
     "output_type": "execute_result"
    }
   ],
   "source": [
    "sctr = ax1.scatter(x=age, y=pop, c=y, cmap='RdYlGn')\n",
    "plt.colorbar(sctr, ax=ax1, format='$%d')\n",
    "ax1.set_yscale('log')\n",
    "ax2.hist(age, bins='auto')\n",
    "ax3.hist(pop, bins='auto', log=True)\n",
    "\n",
    "add_titlebox(ax2, 'Histogram: home age')\n",
    "add_titlebox(ax3, 'Histogram: area population (log scl.)')"
   ]
  },
  {
   "cell_type": "code",
   "execution_count": null,
   "metadata": {
    "collapsed": true
   },
   "outputs": [],
   "source": []
  }
 ],
 "metadata": {
  "kernelspec": {
   "display_name": "Python 3",
   "language": "python",
   "name": "python3"
  },
  "language_info": {
   "codemirror_mode": {
    "name": "ipython",
    "version": 3
   },
   "file_extension": ".py",
   "mimetype": "text/x-python",
   "name": "python",
   "nbconvert_exporter": "python",
   "pygments_lexer": "ipython3",
   "version": "3.6.3"
  }
 },
 "nbformat": 4,
 "nbformat_minor": 2
}
