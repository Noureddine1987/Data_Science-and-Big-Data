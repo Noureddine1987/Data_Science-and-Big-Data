{
 "cells": [
  {
   "cell_type": "code",
   "execution_count": 1,
   "metadata": {},
   "outputs": [],
   "source": [
    "import findspark\n",
    "findspark.init()\n"
   ]
  },
  {
   "cell_type": "code",
   "execution_count": 2,
   "metadata": {},
   "outputs": [],
   "source": [
    "from pyspark import SparkContext\n",
    "\n"
   ]
  },
  {
   "cell_type": "code",
   "execution_count": 3,
   "metadata": {},
   "outputs": [],
   "source": [
    "sc = SparkContext.getOrCreate()"
   ]
  },
  {
   "cell_type": "code",
   "execution_count": 4,
   "metadata": {},
   "outputs": [
    {
     "data": {
      "text/html": [
       "\n",
       "        <div>\n",
       "            <p><b>SparkContext</b></p>\n",
       "\n",
       "            <p><a href=\"http://192.168.0.14:4041\">Spark UI</a></p>\n",
       "\n",
       "            <dl>\n",
       "              <dt>Version</dt>\n",
       "                <dd><code>v2.2.1</code></dd>\n",
       "              <dt>Master</dt>\n",
       "                <dd><code>local[*]</code></dd>\n",
       "              <dt>AppName</dt>\n",
       "                <dd><code>pyspark-shell</code></dd>\n",
       "            </dl>\n",
       "        </div>\n",
       "        "
      ],
      "text/plain": [
       "<SparkContext master=local[*] appName=pyspark-shell>"
      ]
     },
     "execution_count": 4,
     "metadata": {},
     "output_type": "execute_result"
    }
   ],
   "source": [
    "sc"
   ]
  },
  {
   "cell_type": "code",
   "execution_count": 6,
   "metadata": {},
   "outputs": [],
   "source": [
    "import time\n",
    "from pyspark.streaming import StreamingContext"
   ]
  },
  {
   "cell_type": "code",
   "execution_count": 7,
   "metadata": {},
   "outputs": [
    {
     "name": "stdout",
     "output_type": "stream",
     "text": [
      "-------------------------------------------\n",
      "Time: 2018-11-13 19:27:11\n",
      "-------------------------------------------\n",
      "(4, 100)\n",
      "(8, 100)\n",
      "(0, 100)\n",
      "(1, 100)\n",
      "(5, 100)\n",
      "(9, 100)\n",
      "(2, 100)\n",
      "(6, 100)\n",
      "(3, 100)\n",
      "(7, 100)\n",
      "\n",
      "-------------------------------------------\n",
      "Time: 2018-11-13 19:27:12\n",
      "-------------------------------------------\n",
      "(4, 100)\n",
      "(8, 100)\n",
      "(0, 100)\n",
      "(1, 100)\n",
      "(5, 100)\n",
      "(9, 100)\n",
      "(2, 100)\n",
      "(6, 100)\n",
      "(3, 100)\n",
      "(7, 100)\n",
      "\n",
      "-------------------------------------------\n",
      "Time: 2018-11-13 19:27:13\n",
      "-------------------------------------------\n",
      "(4, 100)\n",
      "(8, 100)\n",
      "(0, 100)\n",
      "(1, 100)\n",
      "(5, 100)\n",
      "(9, 100)\n",
      "(2, 100)\n",
      "(6, 100)\n",
      "(3, 100)\n",
      "(7, 100)\n",
      "\n",
      "-------------------------------------------\n",
      "Time: 2018-11-13 19:27:14\n",
      "-------------------------------------------\n",
      "(4, 100)\n",
      "(8, 100)\n",
      "(0, 100)\n",
      "(1, 100)\n",
      "(5, 100)\n",
      "(9, 100)\n",
      "(2, 100)\n",
      "(6, 100)\n",
      "(3, 100)\n",
      "(7, 100)\n",
      "\n",
      "-------------------------------------------\n",
      "Time: 2018-11-13 19:27:15\n",
      "-------------------------------------------\n",
      "(4, 100)\n",
      "(8, 100)\n",
      "(0, 100)\n",
      "(1, 100)\n",
      "(5, 100)\n",
      "(9, 100)\n",
      "(2, 100)\n",
      "(6, 100)\n",
      "(3, 100)\n",
      "(7, 100)\n",
      "\n",
      "-------------------------------------------\n",
      "Time: 2018-11-13 19:27:16\n",
      "-------------------------------------------\n",
      "\n",
      "-------------------------------------------\n",
      "Time: 2018-11-13 19:27:17\n",
      "-------------------------------------------\n",
      "\n",
      "-------------------------------------------\n",
      "Time: 2018-11-13 19:27:18\n",
      "-------------------------------------------\n",
      "\n"
     ]
    }
   ],
   "source": [
    "if __name__ == \"__main__\":\n",
    "    #sc = SparkContext(appName=\"PythonStreamingQueueStream\")\n",
    "    ssc = StreamingContext(sc, 1)\n",
    "    \n",
    "    \n",
    "    rddQueue = []\n",
    "    for i in range(5):\n",
    "        rddQueue += [ssc.sparkContext.parallelize([j for j in range(1, 1001)], 10)]\n",
    "    \n",
    "    inputStream = ssc.queueStream(rddQueue)\n",
    "    mappedStream = inputStream.map(lambda x: (x % 10, 1))\n",
    "    reducedStream = mappedStream.reduceByKey(lambda a, b: a + b)\n",
    "    reducedStream.pprint()\n",
    "    \n",
    "    ssc.start()\n",
    "    time.sleep(6)\n",
    "    ssc.stop(stopSparkContext=True, stopGraceFully=True)"
   ]
  },
  {
   "cell_type": "code",
   "execution_count": null,
   "metadata": {},
   "outputs": [],
   "source": []
  }
 ],
 "metadata": {
  "kernelspec": {
   "display_name": "Python 3",
   "language": "python",
   "name": "python3"
  },
  "language_info": {
   "codemirror_mode": {
    "name": "ipython",
    "version": 3
   },
   "file_extension": ".py",
   "mimetype": "text/x-python",
   "name": "python",
   "nbconvert_exporter": "python",
   "pygments_lexer": "ipython3",
   "version": "3.6.4"
  }
 },
 "nbformat": 4,
 "nbformat_minor": 2
}
